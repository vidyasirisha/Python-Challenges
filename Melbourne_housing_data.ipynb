{
 "cells": [
  {
   "cell_type": "code",
   "execution_count": 51,
   "id": "bb8c72bd",
   "metadata": {},
   "outputs": [],
   "source": [
    "#https://www.kaggle.com/code/dansbecker/model-validation\n"
   ]
  },
  {
   "cell_type": "code",
   "execution_count": null,
   "id": "7f0d7db1",
   "metadata": {},
   "outputs": [],
   "source": [
    "import pandas as pd"
   ]
  },
  {
   "cell_type": "code",
   "execution_count": 63,
   "id": "580dd873",
   "metadata": {},
   "outputs": [],
   "source": [
    "# save filepath to variable for easier access\n",
    "mel_file_path = 'F:/kaggle/melb_data/melb_data.csv'"
   ]
  },
  {
   "cell_type": "code",
   "execution_count": 84,
   "id": "0061945b",
   "metadata": {},
   "outputs": [
    {
     "name": "stdout",
     "output_type": "stream",
     "text": [
      "              Rooms         Price      Distance      Postcode      Bedroom2  \\\n",
      "count  13580.000000  1.358000e+04  13580.000000  13580.000000  13580.000000   \n",
      "mean       2.937997  1.075684e+06     10.137776   3105.301915      2.914728   \n",
      "std        0.955748  6.393107e+05      5.868725     90.676964      0.965921   \n",
      "min        1.000000  8.500000e+04      0.000000   3000.000000      0.000000   \n",
      "25%        2.000000  6.500000e+05      6.100000   3044.000000      2.000000   \n",
      "50%        3.000000  9.030000e+05      9.200000   3084.000000      3.000000   \n",
      "75%        3.000000  1.330000e+06     13.000000   3148.000000      3.000000   \n",
      "max       10.000000  9.000000e+06     48.100000   3977.000000     20.000000   \n",
      "\n",
      "           Bathroom           Car       Landsize  BuildingArea    YearBuilt  \\\n",
      "count  13580.000000  13518.000000   13580.000000   7130.000000  8205.000000   \n",
      "mean       1.534242      1.610075     558.416127    151.967650  1964.684217   \n",
      "std        0.691712      0.962634    3990.669241    541.014538    37.273762   \n",
      "min        0.000000      0.000000       0.000000      0.000000  1196.000000   \n",
      "25%        1.000000      1.000000     177.000000     93.000000  1940.000000   \n",
      "50%        1.000000      2.000000     440.000000    126.000000  1970.000000   \n",
      "75%        2.000000      2.000000     651.000000    174.000000  1999.000000   \n",
      "max        8.000000     10.000000  433014.000000  44515.000000  2018.000000   \n",
      "\n",
      "          Lattitude    Longtitude  Propertycount  \n",
      "count  13580.000000  13580.000000   13580.000000  \n",
      "mean     -37.809203    144.995216    7454.417378  \n",
      "std        0.079260      0.103916    4378.581772  \n",
      "min      -38.182550    144.431810     249.000000  \n",
      "25%      -37.856822    144.929600    4380.000000  \n",
      "50%      -37.802355    145.000100    6555.000000  \n",
      "75%      -37.756400    145.058305   10331.000000  \n",
      "max      -37.408530    145.526350   21650.000000  \n",
      "\n",
      "Columns are:  Index(['Suburb', 'Address', 'Rooms', 'Type', 'Price', 'Method', 'SellerG',\n",
      "       'Date', 'Distance', 'Postcode', 'Bedroom2', 'Bathroom', 'Car',\n",
      "       'Landsize', 'BuildingArea', 'YearBuilt', 'CouncilArea', 'Lattitude',\n",
      "       'Longtitude', 'Regionname', 'Propertycount'],\n",
      "      dtype='object')\n"
     ]
    }
   ],
   "source": [
    "# Read the data and store it in the variable mel_data\n",
    "mel_data=pd.read_csv(mel_file_path)\n",
    "\n",
    "#printing the summary of the data\n",
    "print(mel_data.describe())\n",
    "\n",
    "print('\\nColumns are: ',mel_data.columns)\n"
   ]
  },
  {
   "cell_type": "code",
   "execution_count": 76,
   "id": "0a1c724f",
   "metadata": {},
   "outputs": [
    {
     "name": "stdout",
     "output_type": "stream",
     "text": [
      "Mean area of the building area is  152\n"
     ]
    }
   ],
   "source": [
    "area_avg=round(mel_data.BuildingArea.mean())\n",
    "print('Mean area of the building area is ',area_avg)\n",
    "year_mean=round(mel_data.YearBuilt.mean())"
   ]
  },
  {
   "cell_type": "code",
   "execution_count": 80,
   "id": "9943134c",
   "metadata": {},
   "outputs": [
    {
     "name": "stdout",
     "output_type": "stream",
     "text": [
      "The newest home age is  5.0\n"
     ]
    }
   ],
   "source": [
    "mel_data['YearBuilt'].fillna(year_mean,inplace=True)\n",
    "\n",
    "#sub2['income'].fillna((sub2['income'].mean()), inplace=True)\n",
    "\n",
    "newest_home_age=2023-max(mel_data.YearBuilt)\n",
    "print('The newest home age is ',newest_home_age)"
   ]
  },
  {
   "cell_type": "code",
   "execution_count": 86,
   "id": "72f64967",
   "metadata": {},
   "outputs": [
    {
     "data": {
      "text/plain": [
       "Index(['Suburb', 'Address', 'Rooms', 'Type', 'Price', 'Method', 'SellerG',\n",
       "       'Date', 'Distance', 'Postcode', 'Bedroom2', 'Bathroom', 'Car',\n",
       "       'Landsize', 'BuildingArea', 'YearBuilt', 'CouncilArea', 'Lattitude',\n",
       "       'Longtitude', 'Regionname', 'Propertycount'],\n",
       "      dtype='object')"
      ]
     },
     "execution_count": 86,
     "metadata": {},
     "output_type": "execute_result"
    }
   ],
   "source": [
    "mel_data.columns\n"
   ]
  },
  {
   "cell_type": "code",
   "execution_count": 88,
   "id": "85125aa9",
   "metadata": {},
   "outputs": [],
   "source": [
    "#dropping the rows with missing values\n",
    "\n",
    "mel_data=mel_data.dropna(axis=0)"
   ]
  },
  {
   "cell_type": "code",
   "execution_count": 92,
   "id": "14b1fae0",
   "metadata": {},
   "outputs": [],
   "source": [
    "#Feature selection\n",
    "mel_featues=['Rooms','Bathroom','Landsize','Lattitude','Longtitude']"
   ]
  },
  {
   "cell_type": "code",
   "execution_count": 94,
   "id": "94e93f04",
   "metadata": {},
   "outputs": [],
   "source": [
    "X=mel_data[mel_featues]"
   ]
  },
  {
   "cell_type": "code",
   "execution_count": 96,
   "id": "a8b8db92",
   "metadata": {},
   "outputs": [
    {
     "data": {
      "text/html": [
       "<div>\n",
       "<style scoped>\n",
       "    .dataframe tbody tr th:only-of-type {\n",
       "        vertical-align: middle;\n",
       "    }\n",
       "\n",
       "    .dataframe tbody tr th {\n",
       "        vertical-align: top;\n",
       "    }\n",
       "\n",
       "    .dataframe thead th {\n",
       "        text-align: right;\n",
       "    }\n",
       "</style>\n",
       "<table border=\"1\" class=\"dataframe\">\n",
       "  <thead>\n",
       "    <tr style=\"text-align: right;\">\n",
       "      <th></th>\n",
       "      <th>Rooms</th>\n",
       "      <th>Bathroom</th>\n",
       "      <th>Landsize</th>\n",
       "      <th>Lattitude</th>\n",
       "      <th>Longtitude</th>\n",
       "    </tr>\n",
       "  </thead>\n",
       "  <tbody>\n",
       "    <tr>\n",
       "      <th>count</th>\n",
       "      <td>6196.000000</td>\n",
       "      <td>6196.000000</td>\n",
       "      <td>6196.000000</td>\n",
       "      <td>6196.000000</td>\n",
       "      <td>6196.000000</td>\n",
       "    </tr>\n",
       "    <tr>\n",
       "      <th>mean</th>\n",
       "      <td>2.931407</td>\n",
       "      <td>1.576340</td>\n",
       "      <td>471.006940</td>\n",
       "      <td>-37.807904</td>\n",
       "      <td>144.990201</td>\n",
       "    </tr>\n",
       "    <tr>\n",
       "      <th>std</th>\n",
       "      <td>0.971079</td>\n",
       "      <td>0.711362</td>\n",
       "      <td>897.449881</td>\n",
       "      <td>0.075850</td>\n",
       "      <td>0.099165</td>\n",
       "    </tr>\n",
       "    <tr>\n",
       "      <th>min</th>\n",
       "      <td>1.000000</td>\n",
       "      <td>1.000000</td>\n",
       "      <td>0.000000</td>\n",
       "      <td>-38.164920</td>\n",
       "      <td>144.542370</td>\n",
       "    </tr>\n",
       "    <tr>\n",
       "      <th>25%</th>\n",
       "      <td>2.000000</td>\n",
       "      <td>1.000000</td>\n",
       "      <td>152.000000</td>\n",
       "      <td>-37.855438</td>\n",
       "      <td>144.926198</td>\n",
       "    </tr>\n",
       "    <tr>\n",
       "      <th>50%</th>\n",
       "      <td>3.000000</td>\n",
       "      <td>1.000000</td>\n",
       "      <td>373.000000</td>\n",
       "      <td>-37.802250</td>\n",
       "      <td>144.995800</td>\n",
       "    </tr>\n",
       "    <tr>\n",
       "      <th>75%</th>\n",
       "      <td>4.000000</td>\n",
       "      <td>2.000000</td>\n",
       "      <td>628.000000</td>\n",
       "      <td>-37.758200</td>\n",
       "      <td>145.052700</td>\n",
       "    </tr>\n",
       "    <tr>\n",
       "      <th>max</th>\n",
       "      <td>8.000000</td>\n",
       "      <td>8.000000</td>\n",
       "      <td>37000.000000</td>\n",
       "      <td>-37.457090</td>\n",
       "      <td>145.526350</td>\n",
       "    </tr>\n",
       "  </tbody>\n",
       "</table>\n",
       "</div>"
      ],
      "text/plain": [
       "             Rooms     Bathroom      Landsize    Lattitude   Longtitude\n",
       "count  6196.000000  6196.000000   6196.000000  6196.000000  6196.000000\n",
       "mean      2.931407     1.576340    471.006940   -37.807904   144.990201\n",
       "std       0.971079     0.711362    897.449881     0.075850     0.099165\n",
       "min       1.000000     1.000000      0.000000   -38.164920   144.542370\n",
       "25%       2.000000     1.000000    152.000000   -37.855438   144.926198\n",
       "50%       3.000000     1.000000    373.000000   -37.802250   144.995800\n",
       "75%       4.000000     2.000000    628.000000   -37.758200   145.052700\n",
       "max       8.000000     8.000000  37000.000000   -37.457090   145.526350"
      ]
     },
     "execution_count": 96,
     "metadata": {},
     "output_type": "execute_result"
    }
   ],
   "source": [
    "X.describe()"
   ]
  },
  {
   "cell_type": "code",
   "execution_count": 101,
   "id": "98049c72",
   "metadata": {},
   "outputs": [
    {
     "name": "stdout",
     "output_type": "stream",
     "text": [
      "1        1035000.0\n",
      "2        1465000.0\n",
      "4        1600000.0\n",
      "6        1876000.0\n",
      "7        1636000.0\n",
      "           ...    \n",
      "12205     601000.0\n",
      "12206    1050000.0\n",
      "12207     385000.0\n",
      "12209     560000.0\n",
      "12212    2450000.0\n",
      "Name: Price, Length: 6196, dtype: float64\n"
     ]
    }
   ],
   "source": [
    "y=mel_data['Price']\n",
    "print(y)"
   ]
  },
  {
   "cell_type": "code",
   "execution_count": 98,
   "id": "167395b2",
   "metadata": {},
   "outputs": [
    {
     "data": {
      "text/html": [
       "<div>\n",
       "<style scoped>\n",
       "    .dataframe tbody tr th:only-of-type {\n",
       "        vertical-align: middle;\n",
       "    }\n",
       "\n",
       "    .dataframe tbody tr th {\n",
       "        vertical-align: top;\n",
       "    }\n",
       "\n",
       "    .dataframe thead th {\n",
       "        text-align: right;\n",
       "    }\n",
       "</style>\n",
       "<table border=\"1\" class=\"dataframe\">\n",
       "  <thead>\n",
       "    <tr style=\"text-align: right;\">\n",
       "      <th></th>\n",
       "      <th>Rooms</th>\n",
       "      <th>Bathroom</th>\n",
       "      <th>Landsize</th>\n",
       "      <th>Lattitude</th>\n",
       "      <th>Longtitude</th>\n",
       "    </tr>\n",
       "  </thead>\n",
       "  <tbody>\n",
       "    <tr>\n",
       "      <th>1</th>\n",
       "      <td>2</td>\n",
       "      <td>1.0</td>\n",
       "      <td>156.0</td>\n",
       "      <td>-37.8079</td>\n",
       "      <td>144.9934</td>\n",
       "    </tr>\n",
       "    <tr>\n",
       "      <th>2</th>\n",
       "      <td>3</td>\n",
       "      <td>2.0</td>\n",
       "      <td>134.0</td>\n",
       "      <td>-37.8093</td>\n",
       "      <td>144.9944</td>\n",
       "    </tr>\n",
       "    <tr>\n",
       "      <th>4</th>\n",
       "      <td>4</td>\n",
       "      <td>1.0</td>\n",
       "      <td>120.0</td>\n",
       "      <td>-37.8072</td>\n",
       "      <td>144.9941</td>\n",
       "    </tr>\n",
       "    <tr>\n",
       "      <th>6</th>\n",
       "      <td>3</td>\n",
       "      <td>2.0</td>\n",
       "      <td>245.0</td>\n",
       "      <td>-37.8024</td>\n",
       "      <td>144.9993</td>\n",
       "    </tr>\n",
       "    <tr>\n",
       "      <th>7</th>\n",
       "      <td>2</td>\n",
       "      <td>1.0</td>\n",
       "      <td>256.0</td>\n",
       "      <td>-37.8060</td>\n",
       "      <td>144.9954</td>\n",
       "    </tr>\n",
       "  </tbody>\n",
       "</table>\n",
       "</div>"
      ],
      "text/plain": [
       "   Rooms  Bathroom  Landsize  Lattitude  Longtitude\n",
       "1      2       1.0     156.0   -37.8079    144.9934\n",
       "2      3       2.0     134.0   -37.8093    144.9944\n",
       "4      4       1.0     120.0   -37.8072    144.9941\n",
       "6      3       2.0     245.0   -37.8024    144.9993\n",
       "7      2       1.0     256.0   -37.8060    144.9954"
      ]
     },
     "execution_count": 98,
     "metadata": {},
     "output_type": "execute_result"
    }
   ],
   "source": [
    "X.head()"
   ]
  },
  {
   "cell_type": "code",
   "execution_count": 103,
   "id": "cd7be92e",
   "metadata": {},
   "outputs": [
    {
     "data": {
      "text/plain": [
       "DecisionTreeRegressor(random_state=1)"
      ]
     },
     "execution_count": 103,
     "metadata": {},
     "output_type": "execute_result"
    }
   ],
   "source": [
    "from sklearn.tree import DecisionTreeRegressor\n",
    "\n",
    "#Define model\n",
    "\n",
    "mel_model=DecisionTreeRegressor(random_state=1)\n",
    "\n",
    "#Fit model\n",
    "mel_model.fit(X,y)\n",
    "\n"
   ]
  },
  {
   "cell_type": "code",
   "execution_count": 104,
   "id": "b8faf39a",
   "metadata": {},
   "outputs": [
    {
     "name": "stdout",
     "output_type": "stream",
     "text": [
      "Making predictions for the following 5 houses:\n",
      "\n",
      "   Rooms  Bathroom  Landsize  Lattitude  Longtitude\n",
      "1      2       1.0     156.0   -37.8079    144.9934\n",
      "2      3       2.0     134.0   -37.8093    144.9944\n",
      "4      4       1.0     120.0   -37.8072    144.9941\n",
      "6      3       2.0     245.0   -37.8024    144.9993\n",
      "7      2       1.0     256.0   -37.8060    144.9954\n",
      "\n",
      " The predictions are:\n",
      "\n",
      "[1035000. 1465000. 1600000. 1876000. 1636000.]\n"
     ]
    }
   ],
   "source": [
    "print('Making predictions for the following 5 houses:\\n')\n",
    "\n",
    "print(X.head())\n",
    "\n",
    "print('\\n The predictions are:\\n')\n",
    "\n",
    "print(mel_model.predict(X.head()))"
   ]
  },
  {
   "cell_type": "code",
   "execution_count": 105,
   "id": "c3455812",
   "metadata": {},
   "outputs": [
    {
     "data": {
      "text/plain": [
       "1115.7467183128902"
      ]
     },
     "execution_count": 105,
     "metadata": {},
     "output_type": "execute_result"
    }
   ],
   "source": [
    "#Calculating mean absolute error\n",
    "\n",
    "from sklearn.metrics import mean_absolute_error\n",
    "\n",
    "predictions=mel_model.predict(X)\n",
    "mean_absolute_error(y,predictions)"
   ]
  },
  {
   "cell_type": "code",
   "execution_count": 107,
   "id": "41f9ec62",
   "metadata": {},
   "outputs": [
    {
     "data": {
      "text/plain": [
       "DecisionTreeRegressor()"
      ]
     },
     "execution_count": 107,
     "metadata": {},
     "output_type": "execute_result"
    }
   ],
   "source": [
    "#train and test split of data\n",
    "from sklearn.model_selection import train_test_split\n",
    "\n",
    "train_X, test_X, train_y, test_y = train_test_split(X,y, random_state=1)\n",
    "\n",
    "#Define the model\n",
    "\n",
    "mel_model=DecisionTreeRegressor()\n",
    "\n",
    "#Fit model\n",
    "mel_model.fit(train_X,train_y)"
   ]
  },
  {
   "cell_type": "code",
   "execution_count": 109,
   "id": "9fe01a1e",
   "metadata": {},
   "outputs": [
    {
     "name": "stdout",
     "output_type": "stream",
     "text": [
      "249824.229825694\n"
     ]
    }
   ],
   "source": [
    "#predictions on test data\n",
    "\n",
    "test_predictions=mel_model.predict(test_X)\n",
    "print(mean_absolute_error(test_y,test_predictions))"
   ]
  },
  {
   "cell_type": "code",
   "execution_count": 111,
   "id": "a3f3e6e6",
   "metadata": {},
   "outputs": [],
   "source": [
    "#function to get the mae for different tree sizes\n",
    "\n",
    "def get_mae (max_leaf_nodes, train_X, test_X, train_y,test_y):\n",
    "    model=DecisionTreeRegressor(max_leaf_nodes=max_leaf_nodes, random_state=0)\n",
    "    model.fit(train_X, train_y)\n",
    "    pred_value=model.predict(test_X)\n",
    "    mae=mean_absolute_error(test_y,pred_value)\n",
    "    return(mae)"
   ]
  },
  {
   "cell_type": "code",
   "execution_count": 118,
   "id": "e324cbab",
   "metadata": {},
   "outputs": [
    {
     "name": "stdout",
     "output_type": "stream",
     "text": [
      "{5: 369673.0400167675, 7: 335693.8516257533, 9: 327205.36209286493, 11: 317720.5610171599, 13: 313273.7251098732, 15: 302548.2703385423, 17: 295769.0372263858, 19: 294902.4504400878, 21: 292808.2044527668, 23: 286884.69579596457, 25: 283377.5593681339, 27: 280270.3487818073, 29: 277272.2374330602, 31: 275990.2430399387, 33: 275829.5797896648, 35: 271516.8456207443, 37: 275109.7643351368, 39: 273908.094140671, 41: 272132.13519744255, 43: 268491.9586453395, 45: 270108.48543681786, 47: 267203.2131421655, 49: 266895.9108405514, 51: 264901.8960753789, 53: 264013.4803067366, 55: 264149.8379866351, 57: 264894.3341065808, 59: 265000.96942895243, 61: 263575.11787130235, 63: 261804.40945564152, 65: 262143.6575459113, 67: 259139.50528162005, 69: 259430.72742640646, 71: 259619.77105186184, 73: 258637.40875556352, 75: 260877.24090533756, 77: 260273.80509339174, 79: 261123.35336184336, 81: 260663.12044463173, 83: 260755.2314549178, 85: 260047.93765794576, 87: 259859.4803576565, 89: 258695.6030855161, 91: 257879.8309791298, 93: 257859.35240490417, 95: 257029.2746902558, 97: 257128.4490275255, 99: 256676.54457303873, 101: 256378.02899750407, 103: 255877.42397059567, 105: 256840.9002020229, 107: 256086.04593702962, 109: 256041.00485843024, 111: 254834.4898208552, 113: 253174.73117479644, 115: 252602.9367213473, 117: 252395.38675368385, 119: 249970.6206708953, 121: 249801.75922235326, 123: 248735.79640956252, 125: 248927.09570192322, 127: 249643.11869960272, 129: 249126.22194238965, 131: 247426.27517424268, 133: 246906.84611499027, 135: 247140.86806463523, 137: 246863.53451418792, 139: 248504.20479734428, 141: 248110.38222224347, 143: 248112.61757873328, 145: 248723.33896067963, 147: 248030.00496521525, 149: 247689.06998774534, 151: 247930.52640532074, 153: 248204.4412650025, 155: 247986.47140623242, 157: 247377.8436940986, 159: 247750.29473778268, 161: 247902.5974410628, 163: 246762.29129380916, 165: 246836.27388021213, 167: 247263.6140997086, 169: 247167.0555095652, 171: 247016.79580855355, 173: 246487.9384812456, 175: 246616.33021002467, 177: 246615.87226693484, 179: 246331.1939798679, 181: 245442.5106954699, 183: 244704.43370160056, 185: 244613.68500051514, 187: 245571.1972805742, 189: 245270.9191855253, 191: 244439.20285089398, 193: 244119.23293817614, 195: 243954.23177362615, 197: 244328.06882030552, 199: 244528.97441422223}\n",
      "\n",
      "best tree size is:  195\n"
     ]
    }
   ],
   "source": [
    "#finding mae for different leaf sizes\n",
    "\n",
    "candidate_max_leaf_nodes=np.arange(5,200,2)\n",
    "scores={leaf_size:get_mae(leaf_size,train_X, test_X, train_y,test_y) for leaf_size in candidate_max_leaf_nodes}\n",
    "print(scores)\n",
    "best_tree_size=min(scores,key=scores.get)\n",
    "\n",
    "print('\\nbest tree size is: ', best_tree_size)"
   ]
  },
  {
   "cell_type": "code",
   "execution_count": 122,
   "id": "a5168fd2",
   "metadata": {},
   "outputs": [
    {
     "data": {
      "text/plain": [
       "243954.23177362615"
      ]
     },
     "execution_count": 122,
     "metadata": {},
     "output_type": "execute_result"
    }
   ],
   "source": [
    "#Using the abpve tree size in the model\n",
    "\n",
    "final_model=DecisionTreeRegressor(max_leaf_nodes=195, random_state=0)\n",
    "final_model.fit(train_X,train_y)\n",
    "final_pred=final_model.predict(test_X)\n",
    "mean_absolute_error(test_y,final_pred)"
   ]
  },
  {
   "cell_type": "markdown",
   "id": "e7cb76ec",
   "metadata": {},
   "source": [
    "## Building a Random forest model"
   ]
  },
  {
   "cell_type": "code",
   "execution_count": 123,
   "id": "9ff8200e",
   "metadata": {},
   "outputs": [
    {
     "name": "stdout",
     "output_type": "stream",
     "text": [
      "190414.59149025998\n"
     ]
    }
   ],
   "source": [
    "from sklearn.ensemble import RandomForestRegressor\n",
    "from sklearn.metrics import mean_absolute_error\n",
    "\n",
    "forest_model=RandomForestRegressor(random_state=1)\n",
    "forest_model.fit(train_X,train_y)\n",
    "melb_forest_pred=forest_model.predict(test_X)\n",
    "print(mean_absolute_error(test_y,melb_forest_pred))"
   ]
  }
 ],
 "metadata": {
  "kernelspec": {
   "display_name": "Python 3 (ipykernel)",
   "language": "python",
   "name": "python3"
  },
  "language_info": {
   "codemirror_mode": {
    "name": "ipython",
    "version": 3
   },
   "file_extension": ".py",
   "mimetype": "text/x-python",
   "name": "python",
   "nbconvert_exporter": "python",
   "pygments_lexer": "ipython3",
   "version": "3.9.13"
  }
 },
 "nbformat": 4,
 "nbformat_minor": 5
}
