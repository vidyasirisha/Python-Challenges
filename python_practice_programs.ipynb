{
 "cells": [
  {
   "cell_type": "markdown",
   "id": "159ea337",
   "metadata": {},
   "source": [
    "## Fibonacci series"
   ]
  },
  {
   "cell_type": "code",
   "execution_count": 11,
   "id": "f291088d",
   "metadata": {},
   "outputs": [
    {
     "name": "stdout",
     "output_type": "stream",
     "text": [
      "Enter the desired length of series10\n",
      "1\n",
      "1\n",
      "2\n",
      "3\n",
      "5\n",
      "8\n",
      "13\n",
      "21\n",
      "34\n",
      "55\n"
     ]
    }
   ],
   "source": [
    "n=int(input('Enter the desired length of series'))\n",
    "\n",
    "a=1\n",
    "b=1\n",
    "print(a)\n",
    "print(b)\n",
    "\n",
    "for i in range(1,n-1):\n",
    "    c=a+b\n",
    "    print (c)\n",
    "    b=a\n",
    "    a=c\n",
    "    "
   ]
  },
  {
   "cell_type": "markdown",
   "id": "2061a1e8",
   "metadata": {},
   "source": [
    "## Write a program to calculate the sum of series up to n term. For example, if n =5 the series will become 2 + 22 + 222 + 2222 + 22222 = 24690"
   ]
  },
  {
   "cell_type": "code",
   "execution_count": 19,
   "id": "f8f502f0",
   "metadata": {},
   "outputs": [
    {
     "name": "stdout",
     "output_type": "stream",
     "text": [
      "Enter the number of terms5\n",
      "5 is the number entered\n",
      "24690\n"
     ]
    }
   ],
   "source": [
    "n=int(input('Enter the number of terms'))\n",
    "\n",
    "print(f'{n} is the number entered')\n",
    "a=2\n",
    "sum=0\n",
    "\n",
    "for i in range (1,n+1):\n",
    "    sum+=a\n",
    "    a=a*10+2\n",
    "    \n",
    "print(sum)\n",
    "    \n"
   ]
  },
  {
   "cell_type": "markdown",
   "id": "05ee71a7",
   "metadata": {},
   "source": [
    "## Create a 4X2 integer array and Prints its attributes\n"
   ]
  },
  {
   "cell_type": "code",
   "execution_count": 34,
   "id": "93b01891",
   "metadata": {},
   "outputs": [
    {
     "name": "stdout",
     "output_type": "stream",
     "text": [
      "[[  176 64429]\n",
      " [ 4787 36447]\n",
      " [59082 11758]\n",
      " [24635  1890]]\n",
      "Array shape: (4, 2)\n",
      "Array dimensions:  2\n",
      "Array size:  2\n"
     ]
    }
   ],
   "source": [
    "import numpy as np\n",
    "import pandas as pd\n",
    "\n",
    "a = np.empty([4,2],dtype=np.uint16)\n",
    "print(a)\n",
    "\n",
    "print('Array shape:', np.shape(a))\n",
    "\n",
    "print('Array dimensions: ',a.ndim)\n",
    "\n",
    "print('Array size: ', a.itemsize)"
   ]
  },
  {
   "cell_type": "markdown",
   "id": "eab6e825",
   "metadata": {},
   "source": [
    "## Create a 5X2 integer array from a range between 100 to 200 such that the difference between each element is 10"
   ]
  },
  {
   "cell_type": "code",
   "execution_count": 37,
   "id": "bafb00f4",
   "metadata": {},
   "outputs": [
    {
     "name": "stdout",
     "output_type": "stream",
     "text": [
      "[[100 110]\n",
      " [120 130]\n",
      " [140 150]\n",
      " [160 170]\n",
      " [180 190]]\n"
     ]
    }
   ],
   "source": [
    "import numpy as np\n",
    "\n",
    "a=np.arange(100,200,10)\n",
    "b=a.reshape(5,2)  #reshape array has to be saved into a variable\n",
    "print(b)"
   ]
  },
  {
   "cell_type": "markdown",
   "id": "a39da7c0",
   "metadata": {},
   "source": [
    "## Following is the provided numPy array. Return array of items by taking the third column from all rows"
   ]
  },
  {
   "cell_type": "code",
   "execution_count": 50,
   "id": "e0681eb9",
   "metadata": {},
   "outputs": [
    {
     "name": "stdout",
     "output_type": "stream",
     "text": [
      "\n",
      "Sample array is: \n",
      " [[ 50  55  60  65]\n",
      " [ 70  75  80  85]\n",
      " [ 90  95 100 105]\n",
      " [110 115 120 125]\n",
      " [130 135 140 145]]\n",
      "\n",
      " Extracted array is: \n",
      "[ 60  80 100 120 140]\n"
     ]
    }
   ],
   "source": [
    "import numpy as np\n",
    "\n",
    "a=np.arange(50,150,5)\n",
    "b=a.reshape(5,4)\n",
    "print('\\nSample array is: \\n',b)\n",
    "\n",
    "c=b[:,2]\n",
    "\n",
    "print('\\n Extracted array is: ')\n",
    "print(c)"
   ]
  }
 ],
 "metadata": {
  "kernelspec": {
   "display_name": "Python 3 (ipykernel)",
   "language": "python",
   "name": "python3"
  },
  "language_info": {
   "codemirror_mode": {
    "name": "ipython",
    "version": 3
   },
   "file_extension": ".py",
   "mimetype": "text/x-python",
   "name": "python",
   "nbconvert_exporter": "python",
   "pygments_lexer": "ipython3",
   "version": "3.9.13"
  }
 },
 "nbformat": 4,
 "nbformat_minor": 5
}
